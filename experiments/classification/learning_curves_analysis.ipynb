{
 "worksheets": [
  {
   "cells": [
    {
     "cell_type": "code",
     "execution_count": null,
     "metadata": {},
     "outputs": [
      {
       "output_type": "stream",
       "stream": "stdout",
       "text": [
        "/data/code/pymedialab\n"
       ]
      }
     ],
     "input": [
      "cd '/data/code/pymedialab'"
     ],
     "language": "python",
     "prompt_number": 1
    },
    {
     "cell_type": "code",
     "execution_count": null,
     "metadata": {},
     "outputs": [],
     "input": [
      "from experiments.classification.learning_curves import  *"
     ],
     "language": "python",
     "prompt_number": 2
    },
    {
     "cell_type": "code",
     "execution_count": null,
     "metadata": {},
     "outputs": [],
     "input": [
      "results = loadResults('test1')"
     ],
     "language": "python",
     "prompt_number": 4
    },
    {
     "cell_type": "code",
     "execution_count": null,
     "metadata": {},
     "outputs": [
      {
       "output_type": "stream",
       "stream": "stdout",
       "text": [
        "0.919\n",
        "0.927\n",
        "0.947\n"
       ]
      }
     ],
     "input": [
      "plotResults(results, label='lgbt rights')"
     ],
     "language": "python",
     "prompt_number": 10
    },
    {
     "cell_type": "code",
     "execution_count": null,
     "metadata": {},
     "outputs": [
      {
       "output_type": "stream",
       "stream": "stdout",
       "text": [
        "0.625\n",
        "0.749\n",
        "0.782\n"
       ]
      }
     ],
     "input": [
      "plotResults(results, label='police brutality')"
     ],
     "language": "python",
     "prompt_number": 11
    },
    {
     "cell_type": "code",
     "execution_count": null,
     "metadata": {},
     "outputs": [],
     "input": [
      "results2 = loadResults('test2')"
     ],
     "language": "python",
     "prompt_number": 13
    },
    {
     "cell_type": "code",
     "execution_count": null,
     "metadata": {},
     "outputs": [
      {
       "output_type": "stream",
       "stream": "stdout",
       "text": [
        "0.827\n",
        "0.902\n",
        "0.909\n"
       ]
      }
     ],
     "input": [
      "plotResults(results2, label='lgbt rights')"
     ],
     "language": "python",
     "prompt_number": 14
    },
    {
     "cell_type": "code",
     "execution_count": null,
     "metadata": {},
     "outputs": [
      {
       "output_type": "stream",
       "stream": "stdout",
       "text": [
        "0.522\n",
        "0.589\n",
        "0.672\n"
       ]
      }
     ],
     "input": [
      "plotResults(results2, label='police brutality')"
     ],
     "language": "python",
     "prompt_number": 15
    },
    {
     "cell_type": "code",
     "execution_count": null,
     "metadata": {},
     "outputs": [],
     "input": [
      "results3 = loadResults('lc_alllabels_5AvgRuns')"
     ],
     "language": "python",
     "prompt_number": 16
    },
    {
     "cell_type": "code",
     "execution_count": null,
     "metadata": {},
     "outputs": [
      {
       "output_type": "stream",
       "stream": "stdout",
       "text": [
        "0.755\n",
        "0.802\n",
        "0.806\n",
        "0.828\n",
        "0.844\n"
       ]
      }
     ],
     "input": [
      "plotResults(results3)"
     ],
     "language": "python",
     "prompt_number": 18
    },
    {
     "cell_type": "code",
     "execution_count": null,
     "metadata": {},
     "outputs": [],
     "input": [
      "results4 = loadResults('lc_alllabels_gran_5AvgRuns')"
     ],
     "language": "python",
     "prompt_number": 44
    },
    {
     "cell_type": "code",
     "execution_count": null,
     "metadata": {},
     "outputs": [
      {
       "output_type": "stream",
       "stream": "stdout",
       "text": [
        "0.755\n",
        "0.777\n",
        "0.795\n",
        "0.787\n",
        "0.812\n",
        "0.811\n",
        "0.824\n",
        "0.834\n",
        "0.844\n"
       ]
      }
     ],
     "input": [
      "plotResults(results4)"
     ],
     "language": "python",
     "prompt_number": 52
    }
   ]
  }
 ],
 "cells": [],
 "metadata": {
  "signature": "sha256:a43aa044216b730b3202ce71a2f93970c87f4c2c595f69fff023289f4cb8fb1a"
 },
 "nbformat": 3,
 "nbformat_minor": 0
}